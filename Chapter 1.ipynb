{
 "cells": [
  {
   "cell_type": "markdown",
   "id": "relevant-practitioner",
   "metadata": {},
   "source": [
    "# Chapter 1 TensorFlow2"
   ]
  },
  {
   "cell_type": "markdown",
   "id": "remarkable-lounge",
   "metadata": {},
   "source": [
    "* Machine Learning vs Econometrics:\n",
    "    * Econometrics: It's centered around causal inference in parsimonious linear models\n",
    "    * ML: It's centered around prediction using non-linear models with many parameters.\n",
    "    \n",
    "* TensorFlow Advantages in Economics:\n",
    "    1. Felxibility: Allow the mix of high- and low- level APIs.eg: DNN(Deep Neutral Network), may apply manifold theory.\n",
    "    2. Distributed Training: CPU and GPU converting. \n",
    "    3. Production Quality: Stability in industry. \n",
    "    4. Hith-Quality Documentation\n",
    "    5. Extensions\n",
    "    \n",
    "* Some Resources:\n",
    "    * [TensorFlow Hub](https://tfhub.dev/):searchable library of pretrained models can be imported into TensorFlow.\n",
    "    * TensorFlow Probability: all probability tools to use. \n",
    "    * TensorFlow Federated: It can be used to train a model without centralizing the data.\n",
    "    * TensorFlow Lite: Avoid resource constraints and improve performance. "
   ]
  },
  {
   "cell_type": "markdown",
   "id": "above-bradley",
   "metadata": {},
   "source": [
    "**Tensor**:In the general case, an array of numbers arranged on a regular grid with a variable number of axes is known as tensor.\\\n",
    "TensorFlow offers  a data structure called 'ragged tensor' which is available as tf.ragged (compatible with more than 100TensorFlow operations.--amazing!)\\\n",
    "**TensorFlow->constant+variable**, residual -> loss function; $\\beta$ -> parameter vector (tf.Variable$\\left(\\right)$).\n"
   ]
  },
  {
   "cell_type": "code",
   "execution_count": 1,
   "id": "selected-spread",
   "metadata": {},
   "outputs": [],
   "source": [
    "#list 1-11 Define constants and variables in OLS\n",
    "import tensorflow as tf\n",
    "X=tf.constant([[1,0],[1,2]],tf.float32)\n",
    "Y=tf.constant([[2],[4]],tf.float32)\n",
    "beta=tf.Variable([[0.01],[0.01]],tf.float32)\n",
    "residuals=Y-tf.matmul(X,beta)"
   ]
  },
  {
   "cell_type": "code",
   "execution_count": 2,
   "id": "former-british",
   "metadata": {},
   "outputs": [
    {
     "name": "stdout",
     "output_type": "stream",
     "text": [
      "tf.Tensor(20.0, shape=(), dtype=float32)\n",
      "tf.Tensor(75.0, shape=(), dtype=float32)\n"
     ]
    }
   ],
   "source": [
    "#list 1-12\n",
    "s1=tf.constant(5,tf.float32)\n",
    "s2=tf.constant(15,tf.float32)\n",
    "s1s2_sum=tf.add(s1,s2)\n",
    "s1s2_product=tf.multiply(s1,s2)\n",
    "print(s1s2_sum)\n",
    "print(s1s2_product)"
   ]
  },
  {
   "cell_type": "markdown",
   "id": "expressed-cowboy",
   "metadata": {},
   "source": [
    "In all ranks tensors, the elements in the **same** positions in the two tensors are summed."
   ]
  },
  {
   "cell_type": "code",
   "execution_count": 7,
   "id": "sporting-denial",
   "metadata": {},
   "outputs": [],
   "source": [
    "#list 1-14\n",
    "A=tf.random.normal([5,10,7,3,2,15])\n",
    "B=tf.random.normal([5,10,7,3,2,15])\n",
    "C1=tf.multiply(A,B)#Elementwise multiplication\n",
    "C2=A*B\n",
    "\n"
   ]
  },
  {
   "cell_type": "markdown",
   "id": "guided-auditor",
   "metadata": {},
   "source": [
    "**tf.tensordot()** is used as dot production."
   ]
  },
  {
   "cell_type": "code",
   "execution_count": 8,
   "id": "sunrise-wholesale",
   "metadata": {},
   "outputs": [
    {
     "name": "stdout",
     "output_type": "stream",
     "text": [
      "-15.284365\n",
      "tf.Tensor(-15.284365, shape=(), dtype=float32)\n"
     ]
    }
   ],
   "source": [
    "#list 1-15\n",
    "tf.random.set_seed(1)\n",
    "A=tf.random.normal([200])\n",
    "B=tf.random.normal([200])\n",
    "C=tf.tensordot(A,B,axes=1)#dot product\n",
    "print(C.numpy())\n",
    "print(C)"
   ]
  },
  {
   "cell_type": "code",
   "execution_count": null,
   "id": "conceptual-mexican",
   "metadata": {},
   "outputs": [],
   "source": []
  }
 ],
 "metadata": {
  "kernelspec": {
   "display_name": "Python 3",
   "language": "python",
   "name": "python3"
  },
  "language_info": {
   "codemirror_mode": {
    "name": "ipython",
    "version": 3
   },
   "file_extension": ".py",
   "mimetype": "text/x-python",
   "name": "python",
   "nbconvert_exporter": "python",
   "pygments_lexer": "ipython3",
   "version": "3.7.3"
  }
 },
 "nbformat": 4,
 "nbformat_minor": 5
}
