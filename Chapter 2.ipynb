{
 "cells": [
  {
   "cell_type": "markdown",
   "id": "subjective-pharmaceutical",
   "metadata": {},
   "source": [
    "# Chapter 2: Machine Learning and Economics"
   ]
  },
  {
   "cell_type": "markdown",
   "id": "hybrid-format",
   "metadata": {},
   "source": [
    "Supervised Learning: From traditional econometrics by estimating $\\beta$ to predict $\\hat{y}$"
   ]
  },
  {
   "cell_type": "markdown",
   "id": "divided-beginning",
   "metadata": {},
   "source": [
    "* Machine learning shouldn't be done to  do parameter estimation adn hypothesis testing, but:\n",
    "    * Measure economic activity\n",
    "    * Inference tasks that have a prediction step\n",
    "    * Policy application\\\n",
    "Nagel(2021) is a good book to look through theoretically.\n",
    "    "
   ]
  },
  {
   "cell_type": "markdown",
   "id": "operating-company",
   "metadata": {},
   "source": [
    "Machine learning starts with a standard model architecture and/or set of hyperparameters, then trains the model, evaluates performance using a form of cross-validation, and then tunes the hyperparameters and model architecture to improve performance, finally repeated many times till end.\\\n",
    "**Tuning** and **Cross-validation** are the most useful weapons to econometics. "
   ]
  },
  {
   "cell_type": "markdown",
   "id": "governmental-physiology",
   "metadata": {},
   "source": [
    "* Potential Research areas in economics by the use of ML:\n",
    "    * Estimate average treatment effects(ATE)\n",
    "    * Estimate optimal policy under heterogeneour treatment effects(HTE)\n",
    "    * Perform supplementary analysis that evaluate the extent of the confoundedness problem in causal inference\n",
    "    * In panel and DiD"
   ]
  },
  {
   "cell_type": "markdown",
   "id": "latin-artist",
   "metadata": {},
   "source": [
    "* Which ML tools have potential use:\n",
    "    1. Local Lienar Forests\n",
    "    2. Neural Networks\n",
    "    3. Boosting\n",
    "    4. Classification Trees and Forests\n",
    "    5. Unsupervised Learning with k-means clusting and GANS\n",
    "    6. ATE under confoundedness assumption\n",
    "    7. Orthogonalization and cross-fitting\n",
    "    8. Heterogeneous Treatment Effects\n",
    "    9. Experimental design and reinforcement learning\n",
    "    10. Matrix completion and reinforcement learning\n",
    "    11. Syntheric control methods\n",
    "    12. Text analysis"
   ]
  },
  {
   "cell_type": "code",
   "execution_count": null,
   "id": "consolidated-verse",
   "metadata": {},
   "outputs": [],
   "source": []
  }
 ],
 "metadata": {
  "kernelspec": {
   "display_name": "Python 3",
   "language": "python",
   "name": "python3"
  },
  "language_info": {
   "codemirror_mode": {
    "name": "ipython",
    "version": 3
   },
   "file_extension": ".py",
   "mimetype": "text/x-python",
   "name": "python",
   "nbconvert_exporter": "python",
   "pygments_lexer": "ipython3",
   "version": "3.7.3"
  }
 },
 "nbformat": 4,
 "nbformat_minor": 5
}
