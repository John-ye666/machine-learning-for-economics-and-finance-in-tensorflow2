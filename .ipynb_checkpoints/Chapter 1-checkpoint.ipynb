{
 "cells": [
  {
   "cell_type": "markdown",
   "id": "legal-motivation",
   "metadata": {},
   "source": [
    "# Chapter 1 TensorFlow2"
   ]
  },
  {
   "cell_type": "markdown",
   "id": "written-embassy",
   "metadata": {},
   "source": [
    "* Machine Learning vs Econometrics:\n",
    "    * Econometrics: It's centered around causal inference in parsimonious linear models\n",
    "    * ML: It's centered around prediction using non-linear models with many parameters.\n",
    "    \n",
    "* TensorFlow Advantages in Economics:\n",
    "    1. Felxibility: Allow the mix of high- and low- level APIs.eg: DNN(Deep Neutral Network), may apply manifold theory.\n",
    "    2. Distributed Training: CPU and GPU converting. \n",
    "    3. Production Quality: Stability in industry. \n",
    "    4. Hith-Quality Documentation\n",
    "    5. Extensions\n",
    "    \n",
    "* Some Resources:\n",
    "    * [TensorFlow Hub](https://tfhub.dev/):searchable library of pretrained models can be imported into TensorFlow.\n",
    "    * TensorFlow Probability: all probability tools to use. \n",
    "    * TensorFlow Federated: It can be used to train a model without centralizing the data.\n",
    "    * TensorFlow Lite: Avoid resource constraints and improve performance. "
   ]
  },
  {
   "cell_type": "markdown",
   "id": "corrected-syntax",
   "metadata": {},
   "source": [
    "**Tensor**:In the general case, an array of numbers arranged on a regular grid with a variable number of axes is known as tensor.\\\n",
    "TensorFlow offers  a data structure called 'ragged tensor' which is available as tf.ragged (compatible with more than 100TensorFlow operations.--amazing!)\\\n",
    "**TensorFlow->constant+variable**, residual -> loss function; $\\beta$ -> parameter vector (tf.Variable$\\left(\\right)$).\n"
   ]
  },
  {
   "cell_type": "code",
   "execution_count": 1,
   "id": "external-dealer",
   "metadata": {},
   "outputs": [],
   "source": [
    "#list 1-11 Define constants and variables in OLS\n",
    "import tensorflow as tf\n",
    "X=tf.constant([[1,0],[1,2]],tf.float32)\n",
    "Y=tf.constant([[2],[4]],tf.float32)\n",
    "beta=tf.Variable([[0.01],[0.01]],tf.float32)\n",
    "residuals=Y-tf.matmul(X,beta)"
   ]
  },
  {
   "cell_type": "code",
   "execution_count": 2,
   "id": "tired-thong",
   "metadata": {},
   "outputs": [
    {
     "name": "stdout",
     "output_type": "stream",
     "text": [
      "tf.Tensor(20.0, shape=(), dtype=float32)\n",
      "tf.Tensor(75.0, shape=(), dtype=float32)\n"
     ]
    }
   ],
   "source": [
    "#list 1-12\n",
    "s1=tf.constant(5,tf.float32)\n",
    "s2=tf.constant(15,tf.float32)\n",
    "s1s2_sum=tf.add(s1,s2)\n",
    "s1s2_product=tf.multiply(s1,s2)\n",
    "print(s1s2_sum)\n",
    "print(s1s2_product)"
   ]
  },
  {
   "cell_type": "markdown",
   "id": "million-aquarium",
   "metadata": {},
   "source": [
    "In all ranks tensors, the elements in the **same** positions in the two tensors are summed."
   ]
  },
  {
   "cell_type": "code",
   "execution_count": 7,
   "id": "established-latest",
   "metadata": {},
   "outputs": [],
   "source": [
    "#list 1-14\n",
    "A=tf.random.normal([5,10,7,3,2,15])\n",
    "B=tf.random.normal([5,10,7,3,2,15])\n",
    "C1=tf.multiply(A,B)#Elementwise multiplication\n",
    "C2=A*B\n",
    "\n"
   ]
  },
  {
   "cell_type": "markdown",
   "id": "binding-pendant",
   "metadata": {},
   "source": [
    "**tf.tensordot()** is used as dot production."
   ]
  },
  {
   "cell_type": "code",
   "execution_count": 8,
   "id": "colonial-alaska",
   "metadata": {},
   "outputs": [
    {
     "name": "stdout",
     "output_type": "stream",
     "text": [
      "-15.284365\n",
      "tf.Tensor(-15.284365, shape=(), dtype=float32)\n"
     ]
    }
   ],
   "source": [
    "#list 1-15\n",
    "tf.random.set_seed(1)\n",
    "A=tf.random.normal([200])\n",
    "B=tf.random.normal([200])\n",
    "C=tf.tensordot(A,B,axes=1)#dot product\n",
    "print(C.numpy())\n",
    "print(C)"
   ]
  },
  {
   "cell_type": "code",
   "execution_count": 9,
   "id": "stock-backing",
   "metadata": {},
   "outputs": [
    {
     "name": "stdout",
     "output_type": "stream",
     "text": [
      "(200, 10)\n"
     ]
    }
   ],
   "source": [
    "#list 1-16\n",
    "A=tf.random.normal([200,50])\n",
    "B=tf.random.normal([50,10])\n",
    "C=tf.matmul(A,B)#matrix multiplication not dot production\n",
    "print(C.shape)"
   ]
  },
  {
   "cell_type": "markdown",
   "id": "manual-laundry",
   "metadata": {},
   "source": [
    "Scalar can be added or multiplied with a tensor\n",
    "like:\n",
    "$$C_{i_{1...k}}=\\gamma+A_{i_{1...k}}$$\n",
    "$$C_{i_{1...k}}=\\gamma A_{i_{1...k}}$$"
   ]
  },
  {
   "cell_type": "code",
   "execution_count": 15,
   "id": "sublime-freedom",
   "metadata": {},
   "outputs": [],
   "source": [
    "#list1.18 Denfine random tensors\n",
    "images=tf.random.uniform((64,256,256))\n",
    "transform=tf.random.normal((256,256))\n"
   ]
  },
  {
   "cell_type": "code",
   "execution_count": 16,
   "id": "opening-spanish",
   "metadata": {},
   "outputs": [],
   "source": [
    "#list 1-19 Perform batch matrix maltiplication\n",
    "batch_matmul=tf.matmul(images,transform)\n",
    "batch_elementwise=tf.multiply(images,transform)\n"
   ]
  },
  {
   "cell_type": "markdown",
   "id": "cheap-aruba",
   "metadata": {},
   "source": [
    "Why **Differential Calculus** is important in fianance and economics? It's a big tool to find optimum in these fields.\\\n",
    "Like when we want to find what the max utility given budget constraint, it comes to our eyes. "
   ]
  },
  {
   "cell_type": "markdown",
   "id": "sound-surveillance",
   "metadata": {},
   "source": [
    "### For optimization methods mentioned in the book, they're very brief and technically easy for ECON PhD student, because they have been covered in the first year math PhD Class."
   ]
  },
  {
   "cell_type": "code",
   "execution_count": 18,
   "id": "downtown-reverse",
   "metadata": {},
   "outputs": [
    {
     "name": "stdout",
     "output_type": "stream",
     "text": [
      "960.0\n"
     ]
    }
   ],
   "source": [
    "#list 1-20 Compute a derivative in TensorFlow\n",
    "x=tf.constant(2.0)\n",
    "\n",
    "#Define f(g(x)) within an instance of gradient tape.\n",
    "with tf.GradientTape() as t:\n",
    "    t.watch(x)\n",
    "    y=x**3\n",
    "    f=5*y**2\n",
    "df_dx=t.gradient(f,x)\n",
    "print(df_dx.numpy())"
   ]
  },
  {
   "cell_type": "markdown",
   "id": "fifteen-spare",
   "metadata": {},
   "source": [
    "For [tf.GradientTape Document](https://www.tensorflow.org/api_docs/python/tf/GradientTape) can be found here."
   ]
  },
  {
   "cell_type": "code",
   "execution_count": 19,
   "id": "weighted-studio",
   "metadata": {},
   "outputs": [
    {
     "ename": "FileNotFoundError",
     "evalue": "[Errno 2] No such file or directory: 'images.npy'",
     "output_type": "error",
     "traceback": [
      "\u001b[0;31m---------------------------------------------------------------------------\u001b[0m",
      "\u001b[0;31mFileNotFoundError\u001b[0m                         Traceback (most recent call last)",
      "\u001b[0;32m<ipython-input-19-0b49c48a1b49>\u001b[0m in \u001b[0;36m<module>\u001b[0;34m\u001b[0m\n\u001b[1;32m      1\u001b[0m \u001b[0;31m#list 1-21 preprocess data via numpy instead of TensorFlow\u001b[0m\u001b[0;34m\u001b[0m\u001b[0;34m\u001b[0m\u001b[0;34m\u001b[0m\u001b[0m\n\u001b[1;32m      2\u001b[0m \u001b[0;32mimport\u001b[0m \u001b[0mnumpy\u001b[0m \u001b[0;32mas\u001b[0m \u001b[0mnp\u001b[0m\u001b[0;34m\u001b[0m\u001b[0;34m\u001b[0m\u001b[0m\n\u001b[0;32m----> 3\u001b[0;31m \u001b[0mimages\u001b[0m\u001b[0;34m=\u001b[0m\u001b[0mnp\u001b[0m\u001b[0;34m.\u001b[0m\u001b[0mload\u001b[0m\u001b[0;34m(\u001b[0m\u001b[0;34m'images.npy'\u001b[0m\u001b[0;34m)\u001b[0m\u001b[0;34m\u001b[0m\u001b[0;34m\u001b[0m\u001b[0m\n\u001b[0m\u001b[1;32m      4\u001b[0m \u001b[0mimages\u001b[0m\u001b[0;34m=\u001b[0m\u001b[0mimages\u001b[0m\u001b[0;34m/\u001b[0m\u001b[0;36m255.0\u001b[0m\u001b[0;34m\u001b[0m\u001b[0;34m\u001b[0m\u001b[0m\n\u001b[1;32m      5\u001b[0m \u001b[0mprint\u001b[0m\u001b[0;34m(\u001b[0m\u001b[0mimages\u001b[0m\u001b[0;34m.\u001b[0m\u001b[0mshape\u001b[0m\u001b[0;34m)\u001b[0m\u001b[0;34m\u001b[0m\u001b[0;34m\u001b[0m\u001b[0m\n",
      "\u001b[0;32m~/anaconda3/lib/python3.7/site-packages/numpy/lib/npyio.py\u001b[0m in \u001b[0;36mload\u001b[0;34m(file, mmap_mode, allow_pickle, fix_imports, encoding)\u001b[0m\n\u001b[1;32m    414\u001b[0m             \u001b[0mown_fid\u001b[0m \u001b[0;34m=\u001b[0m \u001b[0;32mFalse\u001b[0m\u001b[0;34m\u001b[0m\u001b[0;34m\u001b[0m\u001b[0m\n\u001b[1;32m    415\u001b[0m         \u001b[0;32melse\u001b[0m\u001b[0;34m:\u001b[0m\u001b[0;34m\u001b[0m\u001b[0;34m\u001b[0m\u001b[0m\n\u001b[0;32m--> 416\u001b[0;31m             \u001b[0mfid\u001b[0m \u001b[0;34m=\u001b[0m \u001b[0mstack\u001b[0m\u001b[0;34m.\u001b[0m\u001b[0menter_context\u001b[0m\u001b[0;34m(\u001b[0m\u001b[0mopen\u001b[0m\u001b[0;34m(\u001b[0m\u001b[0mos_fspath\u001b[0m\u001b[0;34m(\u001b[0m\u001b[0mfile\u001b[0m\u001b[0;34m)\u001b[0m\u001b[0;34m,\u001b[0m \u001b[0;34m\"rb\"\u001b[0m\u001b[0;34m)\u001b[0m\u001b[0;34m)\u001b[0m\u001b[0;34m\u001b[0m\u001b[0;34m\u001b[0m\u001b[0m\n\u001b[0m\u001b[1;32m    417\u001b[0m             \u001b[0mown_fid\u001b[0m \u001b[0;34m=\u001b[0m \u001b[0;32mTrue\u001b[0m\u001b[0;34m\u001b[0m\u001b[0;34m\u001b[0m\u001b[0m\n\u001b[1;32m    418\u001b[0m \u001b[0;34m\u001b[0m\u001b[0m\n",
      "\u001b[0;31mFileNotFoundError\u001b[0m: [Errno 2] No such file or directory: 'images.npy'"
     ]
    }
   ],
   "source": [
    "#list 1-21 preprocess data via numpy instead of TensorFlow\n",
    "import numpy as np\n",
    "images=np.load('images.npy')#Actually, I can't access to the file 'images.npy'. It's not provided by the author even in the author's github repository. \n",
    "images=images/255.0\n",
    "print(images.shape)"
   ]
  },
  {
   "cell_type": "code",
   "execution_count": null,
   "id": "academic-clinton",
   "metadata": {},
   "outputs": [],
   "source": [
    "#List 1.22 Perform division in TensorFlow using constant tensors\n",
    "images=np.load('images.npy')\n",
    "images=tf.constant(images)#numpy to tensorflow\n",
    "images=images/255#regularization\n"
   ]
  },
  {
   "cell_type": "code",
   "execution_count": null,
   "id": "delayed-jimmy",
   "metadata": {},
   "outputs": [],
   "source": [
    "#List 1.23 Perform division in TensorFlow using the division operation\n",
    "images=np.load('images.npy')\n",
    "images=tf.division(images,255.0)#regularization-the same thought as before, but different method"
   ]
  },
  {
   "cell_type": "code",
   "execution_count": null,
   "id": "periodic-mileage",
   "metadata": {},
   "outputs": [],
   "source": [
    "#List 1.24 Load data in pandas for use in TensorFlow\n",
    "data=np.load('data.csv')\n",
    "data_tensorflow=tf.constant(data)\n",
    "data_numpy=np.array(data)"
   ]
  },
  {
   "cell_type": "markdown",
   "id": "brief-supervisor",
   "metadata": {},
   "source": [
    "* Notes before the end:\\\n",
    "    This chapter is somehow not so good. The first part of this chapter is so brief, it should detaily tell the concepts in deep learning and TensorFlow. But for the middle part, so long and dull, it can be skipped by senior ECON UG or any ECON PhD students. For the last part, because there are not such files, if you run the codes, there will be errors. So from list 1.21-1.24, just for showing purpose.\n"
   ]
  },
  {
   "cell_type": "markdown",
   "id": "answering-railway",
   "metadata": {},
   "source": [
    "***The END***"
   ]
  },
  {
   "cell_type": "code",
   "execution_count": null,
   "id": "electrical-navigator",
   "metadata": {},
   "outputs": [],
   "source": []
  }
 ],
 "metadata": {
  "kernelspec": {
   "display_name": "Python 3",
   "language": "python",
   "name": "python3"
  },
  "language_info": {
   "codemirror_mode": {
    "name": "ipython",
    "version": 3
   },
   "file_extension": ".py",
   "mimetype": "text/x-python",
   "name": "python",
   "nbconvert_exporter": "python",
   "pygments_lexer": "ipython3",
   "version": "3.7.3"
  }
 },
 "nbformat": 4,
 "nbformat_minor": 5
}
